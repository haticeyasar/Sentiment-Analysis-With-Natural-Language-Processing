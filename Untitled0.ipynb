{
  "nbformat": 4,
  "nbformat_minor": 0,
  "metadata": {
    "accelerator": "GPU",
    "colab": {
      "name": "Untitled0.ipynb",
      "provenance": [],
      "collapsed_sections": [],
      "include_colab_link": true
    },
    "kernelspec": {
      "display_name": "Python 3",
      "name": "python3"
    },
    "language_info": {
      "name": "python"
    }
  },
  "cells": [
    {
      "cell_type": "markdown",
      "metadata": {
        "id": "view-in-github",
        "colab_type": "text"
      },
      "source": [
        "<a href=\"https://colab.research.google.com/github/haticeyasar/Sentiment-Analysis-With-Natural-Language-Processing/blob/main/Untitled0.ipynb\" target=\"_parent\"><img src=\"https://colab.research.google.com/assets/colab-badge.svg\" alt=\"Open In Colab\"/></a>"
      ]
    },
    {
      "cell_type": "code",
      "metadata": {
        "id": "Icil1c6iNRa_"
      },
      "source": [
        "from gensim import utils\n",
        "from gensim.models.doc2vec import TaggedDocument\n",
        "from gensim.models import Doc2Vec\n",
        "from random import shuffle\n",
        "# numpy\n",
        "import numpy as np\n",
        "# random\n",
        "import random"
      ],
      "execution_count": null,
      "outputs": []
    },
    {
      "cell_type": "code",
      "metadata": {
        "id": "lCbd0hh_NVF4"
      },
      "source": [
        "from keras.models import Sequential\n",
        "from keras.layers import Dense, Activation, Dropout\n",
        "from keras.layers.convolutional import Conv1D\n",
        "from keras.layers.convolutional import MaxPooling1D\n",
        "from keras.layers import Flatten\n",
        "from sklearn.preprocessing import MinMaxScaler\n",
        "from sklearn.metrics import mean_squared_error"
      ],
      "execution_count": null,
      "outputs": []
    },
    {
      "cell_type": "code",
      "metadata": {
        "id": "yWx9EnGoNWM2"
      },
      "source": [
        "class TaggedLineSentence(object):\n",
        "    def __init__(self, sources):\n",
        "        self.sources = sources\n",
        "\n",
        "        flipped = {}\n",
        "\n",
        "        for key, value in sources.items():\n",
        "            if value not in flipped:\n",
        "                flipped[value] = [key]\n",
        "            else:\n",
        "                raise Exception('Non-unique prefix encountered')\n",
        "\n",
        "    def __iter__(self):\n",
        "        for source, prefix in self.sources.items():\n",
        "            with utils.smart_open(source) as fin:\n",
        "                for item_no, line in enumerate(fin):\n",
        "                    yield TaggedDocument(words=utils.to_unicode(line).split(), tags=[prefix + '_%s' % item_no])\n",
        "\n",
        "    def to_array(self):\n",
        "        self.sentences = []\n",
        "        for source, prefix in self.sources.items():\n",
        "            with utils.smart_open(source) as fin:\n",
        "                for item_no, line in enumerate(fin):\n",
        "                    self.sentences.append(TaggedDocument(words=utils.to_unicode(line).split(), tags=[prefix + '_%s' % item_no]))\n",
        "        return self.sentences\n",
        "\n",
        "    def shuffle_sentences(self):\n",
        "        return shuffle(self.sentences)"
      ],
      "execution_count": null,
      "outputs": []
    },
    {
      "cell_type": "code",
      "metadata": {
        "id": "U2LX0yqXOHLH"
      },
      "source": [
        "sources = {'test-neg.txt':'TEST_NEG', 'test-pos.txt':'TEST_POS', 'train-neg.txt':'TRAIN_NEG', 'train-pos.txt':'TRAIN_POS', 'train-unsup.txt':'TRAIN_UNS'}\n",
        "\n",
        "sentences = TaggedLineSentence(sources)"
      ],
      "execution_count": null,
      "outputs": []
    },
    {
      "cell_type": "code",
      "metadata": {
        "id": "NUjJoSRVOk_Z"
      },
      "source": [
        "model = Doc2Vec(min_count=1, window=10, vector_size=128, sample=1e-4, negative=5, workers=7)\n",
        "\n",
        "model.build_vocab(sentences.to_array())"
      ],
      "execution_count": null,
      "outputs": []
    },
    {
      "cell_type": "code",
      "metadata": {
        "id": "kwuDFUYURVHH"
      },
      "source": [
        ""
      ],
      "execution_count": null,
      "outputs": []
    },
    {
      "cell_type": "code",
      "metadata": {
        "colab": {
          "base_uri": "https://localhost:8080/"
        },
        "id": "8xsqUryGi9xR",
        "outputId": "93f61d2d-f06d-48a4-9363-f0fb90d28e89"
      },
      "source": [
        "token_count = sum([len(sentence) for sentence in sentences])\n",
        "print(token_count)"
      ],
      "execution_count": null,
      "outputs": [
        {
          "output_type": "stream",
          "text": [
            "200000\n"
          ],
          "name": "stdout"
        }
      ]
    },
    {
      "cell_type": "code",
      "metadata": {
        "id": "LUYVRjfaOyeX"
      },
      "source": [
        "#for epoch in range(10):\n",
        "sentences.shuffle_sentences()\n",
        "model.train(sentences.sentences,total_examples=token_count, epochs=15)"
      ],
      "execution_count": null,
      "outputs": []
    },
    {
      "cell_type": "code",
      "metadata": {
        "id": "j9acQaVWPBPb"
      },
      "source": [
        "model.save('./imdb.d2v')"
      ],
      "execution_count": null,
      "outputs": []
    },
    {
      "cell_type": "code",
      "metadata": {
        "id": "Fr0ZVipZPDvD"
      },
      "source": [
        "model = Doc2Vec.load('./imdb.d2v')"
      ],
      "execution_count": null,
      "outputs": []
    },
    {
      "cell_type": "code",
      "metadata": {
        "colab": {
          "base_uri": "https://localhost:8080/"
        },
        "id": "RgNcveHJPGC4",
        "outputId": "15123dad-49dc-4c27-ad11-4dfad24acb0f"
      },
      "source": [
        "sentences_array = sentences.to_array()\n",
        "sentences_dict = {}\n",
        "\n",
        "for i in range(0,len(sentences_array)):\n",
        "    sentences_dict[sentences_array[i][1][0]] = sentences_array[i][0]\n",
        "    \n",
        "print(sentences_dict['TEST_NEG_0'])"
      ],
      "execution_count": null,
      "outputs": [
        {
          "output_type": "stream",
          "text": [
            "['once', 'again', 'mr', 'costner', 'has', 'dragged', 'out', 'a', 'movie', 'for', 'far', 'longer', 'than', 'necessary', 'aside', 'from', 'the', 'terrific', 'sea', 'rescue', 'sequences', 'of', 'which', 'there', 'are', 'very', 'few', 'i', 'just', 'did', 'not', 'care', 'about', 'any', 'of', 'the', 'characters', 'most', 'of', 'us', 'have', 'ghosts', 'in', 'the', 'closet', 'and', 'costner', 's', 'character', 'are', 'realized', 'early', 'on', 'and', 'then', 'forgotten', 'until', 'much', 'later', 'by', 'which', 'time', 'i', 'did', 'not', 'care', 'the', 'character', 'we', 'should', 'really', 'care', 'about', 'is', 'a', 'very', 'cocky', 'overconfident', 'ashton', 'kutcher', 'the', 'problem', 'is', 'he', 'comes', 'off', 'as', 'kid', 'who', 'thinks', 'he', 's', 'better', 'than', 'anyone', 'else', 'around', 'him', 'and', 'shows', 'no', 'signs', 'of', 'a', 'cluttered', 'closet', 'his', 'only', 'obstacle', 'appears', 'to', 'be', 'winning', 'over', 'costner', 'finally', 'when', 'we', 'are', 'well', 'past', 'the', 'half', 'way', 'point', 'of', 'this', 'stinker', 'costner', 'tells', 'us', 'all', 'about', 'kutcher', 's', 'ghosts', 'we', 'are', 'told', 'why', 'kutcher', 'is', 'driven', 'to', 'be', 'the', 'best', 'with', 'no', 'prior', 'inkling', 'or', 'foreshadowing', 'no', 'magic', 'here', 'it', 'was', 'all', 'i', 'could', 'do', 'to', 'keep', 'from', 'turning', 'it', 'off', 'an', 'hour', 'in']\n"
          ],
          "name": "stdout"
        }
      ]
    },
    {
      "cell_type": "code",
      "metadata": {
        "colab": {
          "base_uri": "https://localhost:8080/"
        },
        "id": "F2FZ2A8CPKdf",
        "outputId": "f1887ed6-9ce4-48dc-d8df-10ef74629611"
      },
      "source": [
        "import numpy as np\n",
        "count=0\n",
        "for i in range(12500):\n",
        "    prefix_train_pos = 'TRAIN_POS_' + str(i)\n",
        "    prefix_train_neg = 'TRAIN_NEG_' + str(i)\n",
        "    temp = (np.matrix(model[sentences_dict[prefix_train_pos]]).shape[0])\n",
        "    if count < temp:\n",
        "        count = temp\n",
        "        \n",
        "    temp = (np.matrix(model[sentences_dict[prefix_train_neg]]).shape[0])\n",
        "    if count < temp:\n",
        "        count = temp\n",
        "        \n",
        "print(count)"
      ],
      "execution_count": null,
      "outputs": [
        {
          "output_type": "stream",
          "text": [
            "2494\n"
          ],
          "name": "stdout"
        }
      ]
    },
    {
      "cell_type": "code",
      "metadata": {
        "id": "-yIq_N9PkXpK"
      },
      "source": [
        "X_train = np.zeros(shape=(25000, 100, 128)).astype(np.float32)\n",
        "Y_train = np.zeros(shape=(25000, 1)).astype(np.float32)\n",
        "\n",
        "empty_word = np.zeros(128).astype(np.float32)\n",
        "\n",
        "for i in range(12500):\n",
        "    prefix_train_pos = 'TRAIN_POS_' + str(i)\n",
        "    prefix_train_neg = 'TRAIN_NEG_' + str(i)\n",
        "    len1 = len(sentences_dict[prefix_train_pos])\n",
        "    len2 = len(sentences_dict[prefix_train_neg])\n",
        "    for j in range(100):\n",
        "        if j < len1:\n",
        "            X_train[i,j,:] = model[sentences_dict[prefix_train_pos][j]]\n",
        "        else:\n",
        "            X_train[i,j,:] = empty_word\n",
        "        \n",
        "        if j < len2: \n",
        "            X_train[12500+i,j,:] = model[sentences_dict[prefix_train_neg][j]]\n",
        "        else:\n",
        "            X_train[12500+i,j,:] = empty_word\n",
        "    \n",
        "    Y_train[i,:] = 1\n",
        "    Y_train[12500 + i,:] = 0"
      ],
      "execution_count": null,
      "outputs": []
    },
    {
      "cell_type": "code",
      "metadata": {
        "id": "AXcOivPZnYKR"
      },
      "source": [
        "X_test = np.zeros(shape=(25000, 100, 128)).astype(np.float32)\n",
        "Y_test = np.zeros(shape=(25000, 1)).astype(np.float32)\n",
        "\n",
        "empty_word = np.zeros(128).astype(np.float32)\n",
        "\n",
        "for i in range(12500):\n",
        "    prefix_test_pos = 'TEST_POS_' + str(i)\n",
        "    prefix_test_neg = 'TEST_NEG_' + str(i)\n",
        "    len1 = len(sentences_dict[prefix_test_pos])\n",
        "    len2 = len(sentences_dict[prefix_test_neg])\n",
        "    for j in range(100):\n",
        "        if j < len1:\n",
        "            X_test[i,j,:] = model[sentences_dict[prefix_test_pos][j]]\n",
        "        else:\n",
        "            X_test[i,j,:] = empty_word\n",
        "        \n",
        "        if j < len2: \n",
        "            X_test[12500+i,j,:] = model[sentences_dict[prefix_test_neg][j]]\n",
        "        else:\n",
        "            X_test[12500+i,j,:] = empty_word\n",
        "    \n",
        "    Y_test[i,:] = 1\n",
        "    Y_test[12500 + i,:] = 0"
      ],
      "execution_count": null,
      "outputs": []
    },
    {
      "cell_type": "code",
      "metadata": {
        "colab": {
          "base_uri": "https://localhost:8080/"
        },
        "id": "XryFNxwgQH8X",
        "outputId": "4dda3d2f-13a8-42ef-d3c3-c7a90793c4a3"
      },
      "source": [
        "model = Sequential()\n",
        "model.add(Conv1D(filters=32, kernel_size=3, padding='same', activation='relu', input_shape=(100,128))) \n",
        "model.add(Dropout(0.2)) \n",
        "model.add(MaxPooling1D(pool_size=3)) \n",
        "model.add(Dropout(0.2)) \n",
        "model.add(Conv1D(filters=32, kernel_size=3, padding='same', activation='relu')) \n",
        "model.add(Dropout(0.2)) \n",
        "model.add(MaxPooling1D(pool_size=3)) \n",
        "model.add(Dropout(0.2)) \n",
        "model.add(Conv1D(filters=32, kernel_size=3, padding='same', activation='relu')) \n",
        "model.add(Dropout(0.2)) \n",
        "model.add(MaxPooling1D(pool_size=3)) \n",
        "model.add(Dropout(0.2)) \n",
        "model.add(Conv1D(filters=32, kernel_size=3, padding='same', activation='relu')) \n",
        "model.add(Dropout(0.2)) \n",
        "model.add(MaxPooling1D(pool_size=3)) \n",
        "model.add(Dropout(0.2)) \n",
        "model.add(Dense(1)) \n",
        "model.add(Activation('sigmoid')) \n",
        "model.compile(loss='binary_crossentropy', optimizer='adam', metrics=['accuracy']) \n",
        "print(model.summary()) \n",
        "history=model.fit(X_train, Y_train, validation_data=(X_test, Y_test), epochs=10, batch_size=64)"
      ],
      "execution_count": null,
      "outputs": [
        {
          "output_type": "stream",
          "text": [
            "Model: \"sequential\"\n",
            "_________________________________________________________________\n",
            "Layer (type)                 Output Shape              Param #   \n",
            "=================================================================\n",
            "conv1d (Conv1D)              (None, 100, 32)           12320     \n",
            "_________________________________________________________________\n",
            "dropout (Dropout)            (None, 100, 32)           0         \n",
            "_________________________________________________________________\n",
            "max_pooling1d (MaxPooling1D) (None, 33, 32)            0         \n",
            "_________________________________________________________________\n",
            "dropout_1 (Dropout)          (None, 33, 32)            0         \n",
            "_________________________________________________________________\n",
            "conv1d_1 (Conv1D)            (None, 33, 32)            3104      \n",
            "_________________________________________________________________\n",
            "dropout_2 (Dropout)          (None, 33, 32)            0         \n",
            "_________________________________________________________________\n",
            "max_pooling1d_1 (MaxPooling1 (None, 11, 32)            0         \n",
            "_________________________________________________________________\n",
            "dropout_3 (Dropout)          (None, 11, 32)            0         \n",
            "_________________________________________________________________\n",
            "conv1d_2 (Conv1D)            (None, 11, 32)            3104      \n",
            "_________________________________________________________________\n",
            "dropout_4 (Dropout)          (None, 11, 32)            0         \n",
            "_________________________________________________________________\n",
            "max_pooling1d_2 (MaxPooling1 (None, 3, 32)             0         \n",
            "_________________________________________________________________\n",
            "dropout_5 (Dropout)          (None, 3, 32)             0         \n",
            "_________________________________________________________________\n",
            "conv1d_3 (Conv1D)            (None, 3, 32)             3104      \n",
            "_________________________________________________________________\n",
            "dropout_6 (Dropout)          (None, 3, 32)             0         \n",
            "_________________________________________________________________\n",
            "max_pooling1d_3 (MaxPooling1 (None, 1, 32)             0         \n",
            "_________________________________________________________________\n",
            "dropout_7 (Dropout)          (None, 1, 32)             0         \n",
            "_________________________________________________________________\n",
            "dense (Dense)                (None, 1, 1)              33        \n",
            "_________________________________________________________________\n",
            "activation (Activation)      (None, 1, 1)              0         \n",
            "=================================================================\n",
            "Total params: 21,665\n",
            "Trainable params: 21,665\n",
            "Non-trainable params: 0\n",
            "_________________________________________________________________\n",
            "None\n",
            "Epoch 1/10\n",
            "391/391 [==============================] - 51s 15ms/step - loss: 0.7620 - accuracy: 0.5665 - val_loss: 0.4969 - val_accuracy: 0.7982\n",
            "Epoch 2/10\n",
            "391/391 [==============================] - 4s 11ms/step - loss: 0.4520 - accuracy: 0.7918 - val_loss: 0.4970 - val_accuracy: 0.8186\n",
            "Epoch 3/10\n",
            "391/391 [==============================] - 4s 11ms/step - loss: 0.4203 - accuracy: 0.8092 - val_loss: 0.4553 - val_accuracy: 0.8235\n",
            "Epoch 4/10\n",
            "391/391 [==============================] - 4s 11ms/step - loss: 0.4101 - accuracy: 0.8168 - val_loss: 0.4313 - val_accuracy: 0.8306\n",
            "Epoch 5/10\n",
            "391/391 [==============================] - 4s 11ms/step - loss: 0.4000 - accuracy: 0.8206 - val_loss: 0.4622 - val_accuracy: 0.8127\n",
            "Epoch 6/10\n",
            "391/391 [==============================] - 4s 11ms/step - loss: 0.3944 - accuracy: 0.8291 - val_loss: 0.4416 - val_accuracy: 0.8249\n",
            "Epoch 7/10\n",
            "391/391 [==============================] - 4s 11ms/step - loss: 0.3761 - accuracy: 0.8355 - val_loss: 0.4474 - val_accuracy: 0.8328\n",
            "Epoch 8/10\n",
            "391/391 [==============================] - 5s 13ms/step - loss: 0.3687 - accuracy: 0.8385 - val_loss: 0.4467 - val_accuracy: 0.8300\n",
            "Epoch 9/10\n",
            "391/391 [==============================] - 5s 13ms/step - loss: 0.3698 - accuracy: 0.8379 - val_loss: 0.4122 - val_accuracy: 0.8348\n",
            "Epoch 10/10\n",
            "391/391 [==============================] - 5s 13ms/step - loss: 0.3538 - accuracy: 0.8491 - val_loss: 0.4119 - val_accuracy: 0.8357\n"
          ],
          "name": "stdout"
        }
      ]
    },
    {
      "cell_type": "code",
      "metadata": {
        "id": "F6smtpO6QNa7",
        "colab": {
          "base_uri": "https://localhost:8080/"
        },
        "outputId": "f3d0943e-8584-4739-a1be-11495b54ab1c"
      },
      "source": [
        "# Final evaluation of the model\n",
        "scores = model.evaluate(X_test, Y_test, verbose=0)\n",
        "print(\"Accuracy: %.2f%%\" % (scores[1]*100))"
      ],
      "execution_count": null,
      "outputs": [
        {
          "output_type": "stream",
          "text": [
            "Accuracy: 83.57%\n"
          ],
          "name": "stdout"
        }
      ]
    },
    {
      "cell_type": "code",
      "metadata": {
        "id": "OisJCTi9snSe",
        "colab": {
          "base_uri": "https://localhost:8080/"
        },
        "outputId": "7f6b1c96-aa09-452a-8301-5fd9b04770f7"
      },
      "source": [
        "scores = model.evaluate(X_train, Y_train, verbose=0)\n",
        "print(\"Accuracy: %.2f%%\" % (scores[1]*100))"
      ],
      "execution_count": null,
      "outputs": [
        {
          "output_type": "stream",
          "text": [
            "Accuracy: 87.22%\n"
          ],
          "name": "stdout"
        }
      ]
    },
    {
      "cell_type": "code",
      "metadata": {
        "id": "X3-1_Y84iIXl",
        "colab": {
          "base_uri": "https://localhost:8080/"
        },
        "outputId": "5fb75d6e-0cd2-482a-e765-41e3d2534d0b"
      },
      "source": [
        "history_dict = history.history\n",
        "history_dict.keys()"
      ],
      "execution_count": null,
      "outputs": [
        {
          "output_type": "execute_result",
          "data": {
            "text/plain": [
              "dict_keys(['loss', 'accuracy', 'val_loss', 'val_accuracy'])"
            ]
          },
          "metadata": {
            "tags": []
          },
          "execution_count": 19
        }
      ]
    },
    {
      "cell_type": "code",
      "metadata": {
        "id": "Ncp0zIH1iR_V",
        "colab": {
          "base_uri": "https://localhost:8080/",
          "height": 294
        },
        "outputId": "9239b2d2-f6aa-44e1-e85d-1de09b9b1bb5"
      },
      "source": [
        "import matplotlib.pyplot as plt\n",
        "acc = history_dict['accuracy']\n",
        "val_acc = history_dict['val_accuracy']\n",
        "loss = history_dict['loss']\n",
        "val_loss = history_dict['val_loss']\n",
        "\n",
        "epochs = range(1, len(acc) + 1)\n",
        "\n",
        "# \"bo\" is for \"blue dot\"\n",
        "plt.plot(epochs, loss, 'bo', label='Training loss')\n",
        "# b is for \"solid blue line\"\n",
        "plt.plot(epochs, val_loss, 'b', label='Validation loss')\n",
        "plt.title('Training and validation loss')\n",
        "plt.xlabel('Epochs')\n",
        "plt.ylabel('Loss')\n",
        "plt.legend()\n",
        "\n",
        "plt.show()"
      ],
      "execution_count": null,
      "outputs": [
        {
          "output_type": "display_data",
          "data": {
            "image/png": "[encoded data removed]",
            "text/plain": [
              "<Figure size 432x288 with 1 Axes>"
            ]
          },
          "metadata": {
            "tags": [],
            "needs_background": "light"
          }
        }
      ]
    },
    {
      "cell_type": "code",
      "metadata": {
        "id": "_VUBH-4viZAk",
        "colab": {
          "base_uri": "https://localhost:8080/",
          "height": 294
        },
        "outputId": "7102230f-cd5a-4da9-fd6c-5eeb38617072"
      },
      "source": [
        "plt.clf()   # clear figure\n",
        "\n",
        "plt.plot(epochs, acc, 'bo', label='Training acc')\n",
        "plt.plot(epochs, val_acc, 'b', label='Validation acc')\n",
        "plt.title('Training and validation accuracy')\n",
        "plt.xlabel('Epochs')\n",
        "plt.ylabel('Accuracy')\n",
        "plt.legend()\n",
        "\n",
        "plt.show()"
      ],
      "execution_count": null,
      "outputs": [
        {
          "output_type": "display_data",
          "data": {
            "image/png": "[encoded data removed]",
            "text/plain": [
              "<Figure size 432x288 with 1 Axes>"
            ]
          },
          "metadata": {
            "tags": [],
            "needs_background": "light"
          }
        }
      ]
    }
  ]
}